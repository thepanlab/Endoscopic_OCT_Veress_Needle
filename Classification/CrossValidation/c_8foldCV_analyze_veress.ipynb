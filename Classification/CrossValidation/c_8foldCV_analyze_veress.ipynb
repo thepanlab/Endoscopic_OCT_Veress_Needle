{
 "cells": [
  {
   "cell_type": "markdown",
   "metadata": {},
   "source": [
    "# Veress Needle Classification\n",
    "## Analyze 8-fold cross-validation\n",
    "Justin Reynolds"
   ]
  },
  {
   "cell_type": "code",
   "execution_count": 17,
   "metadata": {},
   "outputs": [],
   "source": [
    "import numpy as np\n",
    "import pickle\n",
    "import os, sys\n",
    "import pandas"
   ]
  },
  {
   "cell_type": "code",
   "execution_count": 18,
   "metadata": {},
   "outputs": [
    {
     "name": "stdout",
     "output_type": "stream",
     "text": [
      "/Users/justinreynolds/Desktop/21summer/veress/classification/data/c_model_results/v20210817/new_f8_results/c_f8_S1_ResNet50_y_preds.npy\n"
     ]
    }
   ],
   "source": [
    "infile_path='/Users/justinreynolds/Desktop/21summer/veress/classification/data/c_model_results/v20210817/new_f8_results/'\n",
    "arch_dict={0: 'ResNet50', 1: 'InceptionV3', 2: 'Xception'}\n",
    "vid_list=[1, 2, 3, 4, 5, 6, 7, 8]\n",
    "vid=1\n",
    "arch=arch_dict[0]\n",
    "print(infile_path+fn_y_eval)"
   ]
  },
  {
   "cell_type": "code",
   "execution_count": 26,
   "metadata": {},
   "outputs": [
    {
     "name": "stdout",
     "output_type": "stream",
     "text": [
      "\n",
      "\n",
      "S1 ResNet50: loss=0.0914, test_acc=0.9722\n",
      "S1 InceptionV3: loss=0.1262, test_acc=0.9735\n",
      "S1 Xception: loss=0.0474, test_acc=0.9827\n",
      "\n",
      "\n",
      "S2 ResNet50: loss=0.2663, test_acc=0.8677\n",
      "S2 InceptionV3: loss=0.2669, test_acc=0.9273\n",
      "S2 Xception: loss=0.2438, test_acc=0.9490\n",
      "\n",
      "\n",
      "S3 ResNet50: loss=0.0971, test_acc=0.9647\n",
      "S3 InceptionV3: loss=0.0979, test_acc=0.9700\n",
      "S3 Xception: loss=0.0721, test_acc=0.9780\n",
      "\n",
      "\n",
      "S4 ResNet50: loss=0.1402, test_acc=0.9463\n",
      "S4 InceptionV3: loss=0.0288, test_acc=0.9895\n",
      "S4 Xception: loss=0.0134, test_acc=0.9942\n",
      "\n",
      "\n",
      "S5 ResNet50: loss=0.0894, test_acc=0.9678\n",
      "S5 InceptionV3: loss=0.0804, test_acc=0.9747\n",
      "S5 Xception: loss=0.0583, test_acc=0.9747\n",
      "\n",
      "\n",
      "S6 ResNet50: loss=0.0568, test_acc=0.9770\n",
      "S6 InceptionV3: loss=0.0224, test_acc=0.9940\n",
      "S6 Xception: loss=0.0085, test_acc=0.9960\n",
      "\n",
      "\n",
      "S7 ResNet50: loss=0.0440, test_acc=0.9870\n",
      "S7 InceptionV3: loss=0.0203, test_acc=0.9925\n",
      "S7 Xception: loss=0.0094, test_acc=0.9952\n",
      "\n",
      "\n",
      "S8 ResNet50: loss=0.0329, test_acc=0.9912\n",
      "S8 InceptionV3: loss=0.0612, test_acc=0.9753\n",
      "S8 Xception: loss=0.0004, test_acc=1.0000\n"
     ]
    }
   ],
   "source": [
    "eval_dict = {}\n",
    "for vid in vid_list:\n",
    "    temp_dict={}\n",
    "    for arch in arch_dict:\n",
    "        with open('%sc_f8_S%d_%s_y_eval.npy'%(infile_path, vid, arch_dict[arch]), 'rb') as f:\n",
    "            y_eval=np.load(f)\n",
    "        temp_dict[arch_dict[arch]] = y_eval\n",
    "    eval_dict[vid] = temp_dict\n",
    "for vid in vid_list:\n",
    "    print(\"\\n\")\n",
    "    for arch in arch_dict:\n",
    "        print(\"S%d %s: loss=%.4f, test_acc=%.4f\"%(vid, arch_dict[arch], eval_dict[vid][arch_dict[arch]][0], eval_dict[vid][arch_dict[arch]][1]))"
   ]
  }
 ],
 "metadata": {
  "kernelspec": {
   "display_name": "Python 3",
   "language": "python",
   "name": "python3"
  },
  "language_info": {
   "codemirror_mode": {
    "name": "ipython",
    "version": 3
   },
   "file_extension": ".py",
   "mimetype": "text/x-python",
   "name": "python",
   "nbconvert_exporter": "python",
   "pygments_lexer": "ipython3",
   "version": "3.8.8"
  }
 },
 "nbformat": 4,
 "nbformat_minor": 4
}
